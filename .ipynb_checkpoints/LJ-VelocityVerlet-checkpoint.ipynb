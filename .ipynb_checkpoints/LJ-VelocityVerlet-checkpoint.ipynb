{
 "cells": [
  {
   "cell_type": "code",
   "execution_count": 1,
   "metadata": {},
   "outputs": [],
   "source": [
    "import numpy as np\n",
    "import matplotlib.pyplot as plt\n",
    "\n",
    "epsilon = 1.\n",
    "sigma = 1.\n",
    "particles = 1000\n",
    "nd = 1\n",
    "dt = 0.01 \n",
    "r = np.zeros((particles,nd))\n",
    "v = np.zeros_like(r)\n",
    "a = np.zeros_like(r)\n",
    "t = np.zeros_like(r)\n",
    "r[0] = 1. \n",
    "\n",
    "def LJ(r):     \n",
    "    return 24*epsilon*1/r*(2*(sigma/r)**12-(sigma/r)**6)\n",
    "\n",
    "def velocity_verlet():\n",
    "    for i in range(999):     \n",
    "        a[i] = LJ(r[i])        \n",
    "        r[i+1] = r[i] + dt*v[i]+0.5*dt**2*a[i]         \n",
    "        a[i+1] = LJ(r[i+1])         \n",
    "        v[i+1] = v[i] + 0.5*dt*(a[i]+a[i+1])         \n",
    "        t[i+1] = t[i]+dt"
   ]
  },
  {
   "cell_type": "code",
   "execution_count": 2,
   "metadata": {},
   "outputs": [
    {
     "data": {
      "image/png": "[encoded data removed]",
      "text/plain": [
       "<Figure size 432x288 with 1 Axes>"
      ]
     },
     "metadata": {
      "needs_background": "light"
     },
     "output_type": "display_data"
    }
   ],
   "source": [
    "velocity_verlet()\n",
    "\n",
    "x = np.linspace(0, 10, 500)\n",
    "\n",
    "fig, ax = plt.subplots()\n",
    "line1 = ax.plot(x, '--', linewidth=1)\n",
    "\n",
    "plt.plot(r,a)\n",
    "plt.xlabel(\"r\")\n",
    "plt.ylabel(\"LJ\")\n",
    "plt.axis([0, 3, -3, 3 ]) \n",
    "plt.show()"
   ]
  },
  {
   "cell_type": "code",
   "execution_count": null,
   "metadata": {},
   "outputs": [],
   "source": []
  },
  {
   "cell_type": "code",
   "execution_count": null,
   "metadata": {},
   "outputs": [],
   "source": []
  }
 ],
 "metadata": {
  "kernelspec": {
   "display_name": "Python 3",
   "language": "python",
   "name": "python3"
  },
  "language_info": {
   "codemirror_mode": {
    "name": "ipython",
    "version": 3
   },
   "file_extension": ".py",
   "mimetype": "text/x-python",
   "name": "python",
   "nbconvert_exporter": "python",
   "pygments_lexer": "ipython3",
   "version": "3.6.4"
  }
 },
 "nbformat": 4,
 "nbformat_minor": 2
}
