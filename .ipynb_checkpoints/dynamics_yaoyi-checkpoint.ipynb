{
 "cells": [
  {
   "cell_type": "code",
   "execution_count": 3,
   "metadata": {},
   "outputs": [
    {
     "ename": "ModuleNotFoundError",
     "evalue": "No module named '__main__.pot_force'; '__main__' is not a package",
     "output_type": "error",
     "traceback": [
      "\u001b[0;31m---------------------------------------------------------------------------\u001b[0m",
      "\u001b[0;31mModuleNotFoundError\u001b[0m                       Traceback (most recent call last)",
      "\u001b[0;32m<ipython-input-3-6ba36c1be5ef>\u001b[0m in \u001b[0;36m<module>\u001b[0;34m()\u001b[0m\n\u001b[1;32m      4\u001b[0m \u001b[0;31m#import Project_6.lennard_jones_1 as lj\u001b[0m\u001b[0;34m\u001b[0m\u001b[0;34m\u001b[0m\u001b[0m\n\u001b[1;32m      5\u001b[0m \u001b[0;31m#from Project_6.LJ import LJ_force\u001b[0m\u001b[0;34m\u001b[0m\u001b[0;34m\u001b[0m\u001b[0m\n\u001b[0;32m----> 6\u001b[0;31m \u001b[0;32mfrom\u001b[0m \u001b[0;34m.\u001b[0m\u001b[0mpot_force\u001b[0m \u001b[0;32mimport\u001b[0m \u001b[0mall_force\u001b[0m\u001b[0;34m\u001b[0m\u001b[0m\n\u001b[0m\u001b[1;32m      7\u001b[0m \u001b[0;32mfrom\u001b[0m \u001b[0;34m.\u001b[0m\u001b[0mlangevin\u001b[0m \u001b[0;32mimport\u001b[0m \u001b[0mlangevin\u001b[0m\u001b[0;34m\u001b[0m\u001b[0m\n\u001b[1;32m      8\u001b[0m \u001b[0;34m\u001b[0m\u001b[0m\n",
      "\u001b[0;31mModuleNotFoundError\u001b[0m: No module named '__main__.pot_force'; '__main__' is not a package"
     ]
    }
   ],
   "source": [
    "# generally copied from Lucas's commit, but uses my functions\n",
    "import numpy as np\n",
    "import matplotlib.pyplot as plt\n",
    "#import Project_6.lennard_jones_1 as lj\n",
    "#from Project_6.LJ import LJ_force\n",
    "from .pot_force import all_force\n",
    "from .langevin import langevin\n",
    "\n",
    "\n",
    "n_steps = int(1E4)\n",
    "n_particles = 2\n",
    "dimensions = 2\n",
    "x_init = np.arange(n_particles * dimensions).reshape(n_particles, dimensions)\n",
    "v_init = np.arange(n_particles * dimensions).reshape(n_particles, dimensions)\n",
    "mass = np.ones(n_particles)\n",
    "time_step = 0.001\n",
    "damping = 0.01\n",
    "beta = 0.01\n",
    "k = int(5E-3)\n"
   ]
  },
  {
   "cell_type": "code",
   "execution_count": null,
   "metadata": {},
   "outputs": [],
   "source": [
    "# run this again and you will get different results\n",
    "x_sol, v_sol = langevin(all_force, n_steps, x_init, v_init,\n",
    "                        mass, time_step * 10, damping, beta)\n",
    "    \n",
    "r_sol = np.linalg.norm(x_sol, axis=2)\n",
    "r_sol = r_sol.reshape(-1)\n",
    "r_sol_mean = np.mean(r_sol)\n",
    "r_sol_max = np.ndarray.max(r_sol)\n",
    "\n",
    "print('mean distance from centre:', r_sol_mean)\n",
    "print('maximum distance from centre:', r_sol_max)\n",
    "\n",
    "plt.plot(x_sol[:,0,0], x_sol[:,0,1])\n",
    "plt.plot(x_sol[:,1,0], x_sol[:,1,1])\n",
    "plt.show()"
   ]
  },
  {
   "cell_type": "code",
   "execution_count": null,
   "metadata": {},
   "outputs": [],
   "source": []
  }
 ],
 "metadata": {
  "kernelspec": {
   "display_name": "Python 3",
   "language": "python",
   "name": "python3"
  },
  "language_info": {
   "codemirror_mode": {
    "name": "ipython",
    "version": 3
   },
   "file_extension": ".py",
   "mimetype": "text/x-python",
   "name": "python",
   "nbconvert_exporter": "python",
   "pygments_lexer": "ipython3",
   "version": "3.6.4"
  }
 },
 "nbformat": 4,
 "nbformat_minor": 2
}
