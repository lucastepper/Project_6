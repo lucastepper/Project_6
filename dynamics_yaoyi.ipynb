{
 "cells": [
  {
   "cell_type": "code",
   "execution_count": null,
   "metadata": {},
   "outputs": [],
   "source": [
    "# generally copied from Lucas's commit, but uses my functions\n",
    "import numpy as np\n",
    "import matplotlib.pyplot as plt\n",
    "#import Project_6.lennard_jones_1 as lj\n",
    "#from Project_6.LJ import LJ_force\n",
    "from pot_force import all_force\n",
    "from langevin import langevin\n",
    "\n",
    "\n",
    "n_steps = int(1E4)\n",
    "n_particles = 2\n",
    "dimensions = 2\n",
    "x_init = np.arange(n_particles * dimensions).reshape(n_particles, dimensions)\n",
    "v_init = np.arange(n_particles * dimensions).reshape(n_particles, dimensions)\n",
    "mass = np.ones(n_particles)\n",
    "time_step = 0.001\n",
    "damping = 0.01\n",
    "beta = 0.01"
   ]
  },
  {
   "cell_type": "code",
   "execution_count": null,
   "metadata": {},
   "outputs": [],
   "source": [
    "# run this again and you will get different results\n",
    "x_sol, v_sol = langevin(all_force, n_steps, x_init, v_init,\n",
    "                        mass, time_step * 10, damping, beta)\n",
    "    \n",
    "r_sol = np.linalg.norm(x_sol, axis=2)\n",
    "r_sol = r_sol.reshape(-1)\n",
    "r_sol_mean = np.mean(r_sol)\n",
    "r_sol_max = np.ndarray.max(r_sol)\n",
    "\n",
    "print('mean distance from centre:', r_sol_mean)\n",
    "print('maximum distance from centre:', r_sol_max)\n",
    "\n",
    "plt.plot(x_sol[:,0,0], x_sol[:,0,1])\n",
    "plt.plot(x_sol[:,1,0], x_sol[:,1,1])\n",
    "plt.show()"
   ]
  },
  {
   "cell_type": "code",
   "execution_count": null,
   "metadata": {},
   "outputs": [],
   "source": []
  }
 ],
 "metadata": {
  "kernelspec": {
   "display_name": "Python 3",
   "language": "python",
   "name": "python3"
  },
  "language_info": {
   "codemirror_mode": {
    "name": "ipython",
    "version": 3
   },
   "file_extension": ".py",
   "mimetype": "text/x-python",
   "name": "python",
   "nbconvert_exporter": "python",
   "pygments_lexer": "ipython3",
   "version": "3.7.0"
  }
 },
 "nbformat": 4,
 "nbformat_minor": 2
}
