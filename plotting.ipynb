{
 "cells": [
  {
   "cell_type": "code",
   "execution_count": null,
   "metadata": {},
   "outputs": [],
   "source": [
    "import numpy as np\n",
    "import matplotlib.pyplot as plt\n",
    "from pot_force import all_force\n",
    "from langevin import langevin\n",
    "\n",
    "\n",
    "\n",
    "dimensions = 2\n",
    "time_step = 0.001\n",
    "damping = 0\n",
    "beta = 0.01"
   ]
  },
  {
   "cell_type": "code",
   "execution_count": null,
   "metadata": {},
   "outputs": [],
   "source": [
    "def x_init_arange(n_particles):\n",
    "    return np.arange(n_particles * dimensions).reshape(n_particles, dimensions)\n",
    "\n",
    "def x_init_circular(n_particles):\n",
    "    angle = 0\n",
    "    x_init = np.zeros((n_particles, dimensions))\n",
    "    for i in range(n_particles):\n",
    "        x_init[i, :] = [radius * np.cos(angle), radius * np.sin(angle)]\n",
    "        angle += 2 * np.pi / n_particles\n",
    "    return x_init\n",
    "\n",
    "def plot(n_particles, x_init_function):\n",
    "    x_init = x_init_function(n_particles)\n",
    "    v_init = np.arange(n_particles * dimensions).reshape(n_particles, dimensions)\n",
    "    mass = np.ones(n_particles)\n",
    "    \n",
    "    x_sol, v_sol = langevin(all_force, n_steps, x_init, v_init,\n",
    "                            mass, time_step * 10, damping, beta)\n",
    "\n",
    "    r_sol = np.linalg.norm(x_sol, axis=2)\n",
    "    r_sol = r_sol.reshape(-1)\n",
    "    r_sol_mean = np.mean(r_sol)\n",
    "    r_sol_max = np.ndarray.max(r_sol)\n",
    "    r_sol_min = np.ndarray.min(r_sol)\n",
    "\n",
    "    print('mean distance from centre:', r_sol_mean)\n",
    "    print('minimum distance from centre:', r_sol_min)\n",
    "    print('maximum distance from centre:', r_sol_max)\n",
    "    \n",
    "\n",
    "    plt.figure(1, figsize=(12, 5))\n",
    "    plt.subplot(122)\n",
    "    plt.title('trajectories')\n",
    "\n",
    "    for i in range(n_particles):\n",
    "        plt.plot(x_sol[:,i,0], x_sol[:,i,1])\n",
    "    \n",
    "    histogram = []\n",
    "    iter_list = np.linspace(r_sol_min, r_sol_max, 40)\n",
    "    for i in range(39):\n",
    "        n = 0\n",
    "        for j in range(len(r_sol)):\n",
    "            if iter_list[i] < r_sol[j]:\n",
    "                if r_sol[j] < iter_list[i+1]:\n",
    "                    n += 1\n",
    "        histogram.append(n)\n",
    "    \n",
    "    y_pos = np.arange(len(histogram))\n",
    "    plt.subplot(121)\n",
    "    plt.title('radial distribution')\n",
    "    plt.bar(iter_list[1:], histogram)\n",
    "    \n",
    "    plt.show()\n",
    "    "
   ]
  },
  {
   "cell_type": "code",
   "execution_count": null,
   "metadata": {},
   "outputs": [],
   "source": [
    "#plots trajectory for n = 2, 3, 4 partiles with initial position [n, n + 1] for n_steps \n",
    "\n",
    "n_steps = int(1E3)\n",
    "\n",
    "for i in [2, 3, 4]:\n",
    "    plot(i, x_init_arange)"
   ]
  },
  {
   "cell_type": "code",
   "execution_count": null,
   "metadata": {},
   "outputs": [],
   "source": [
    "#plots trajectory for n = 2, 3, 4 partiles with initial position [n, n + 1] for n_steps \n",
    "\n",
    "n_steps = int(3E3)\n",
    "\n",
    "for i in [2, 3, 4]:\n",
    "    plot(i, x_init_arange)"
   ]
  },
  {
   "cell_type": "code",
   "execution_count": null,
   "metadata": {},
   "outputs": [],
   "source": [
    "#plots trajectory for n = 2, 3, 4 particles evenly distributed on circle of given radius\n",
    "\n",
    "n_steps = int(1E3)\n",
    "\n",
    "radius = 5\n",
    "for i in [2,3,4]:\n",
    "    plot(i, x_init_circular)"
   ]
  },
  {
   "cell_type": "code",
   "execution_count": null,
   "metadata": {},
   "outputs": [],
   "source": [
    "#plots trajectory for n = 2, 3 particles evenly distributed on circle of given radius\n",
    "\n",
    "n_steps = int(1E3)\n",
    "\n",
    "radius = 10\n",
    "for i in [2,3]:\n",
    "    plot(i, x_init_circular)"
   ]
  },
  {
   "cell_type": "code",
   "execution_count": null,
   "metadata": {},
   "outputs": [],
   "source": []
  },
  {
   "cell_type": "code",
   "execution_count": null,
   "metadata": {},
   "outputs": [],
   "source": []
  },
  {
   "cell_type": "code",
   "execution_count": null,
   "metadata": {},
   "outputs": [],
   "source": []
  },
  {
   "cell_type": "code",
   "execution_count": null,
   "metadata": {},
   "outputs": [],
   "source": []
  }
 ],
 "metadata": {
  "kernelspec": {
   "display_name": "Python 3",
   "language": "python",
   "name": "python3"
  },
  "language_info": {
   "codemirror_mode": {
    "name": "ipython",
    "version": 3
   },
   "file_extension": ".py",
   "mimetype": "text/x-python",
   "name": "python",
   "nbconvert_exporter": "python",
   "pygments_lexer": "ipython3",
   "version": "3.6.4"
  }
 },
 "nbformat": 4,
 "nbformat_minor": 2
}
